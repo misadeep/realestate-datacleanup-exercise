{
  "cells": [
    {
      "attachments": {},
      "cell_type": "markdown",
      "id": "innocent-university",
      "metadata": {},
      "source": [
        "# Limpieza de bienes raíces\n",
        "\n",
        "Este es un conjunto de datos (dataset) reales que fue descargado usando técnicas de web scraping. La data contiene registros de **Fotocasa**, el cual es uno de los sitios más populares de bienes raíces en España. Por favor no hagas esto (web scraping) a no ser que sea para propósitos académicos.\n",
        "\n",
        "El dataset fue descargado hace algunos años por Henry Navarro y en ningún caso se obtuvo beneficio económico de ello.\n",
        "\n",
        "Contiene miles de datos de casas reales publicadas en la web www.fotocasa.com. Tu objetivo es extraer tanta información como sea posible con el conocimiento que tienes hasta ahora de ciencia de datos, por ejemplo ¿cuál es la casa más cara en todo el dataset?\n",
        "\n",
        "Empecemos precisamente con esa pregunta... ¡Buena suerte!"
      ]
    },
    {
      "attachments": {},
      "cell_type": "markdown",
      "id": "multiple-glass",
      "metadata": {},
      "source": [
        "#### Ejercicio 00. Lee el dataset assets/real_estate.csv e intenta visualizar la tabla (★☆☆)"
      ]
    },
    {
      "cell_type": "code",
      "execution_count": 412,
      "id": "frank-heath",
      "metadata": {},
      "outputs": [
        {
          "data": {
            "text/html": [
              "<div>\n",
              "<style scoped>\n",
              "    .dataframe tbody tr th:only-of-type {\n",
              "        vertical-align: middle;\n",
              "    }\n",
              "\n",
              "    .dataframe tbody tr th {\n",
              "        vertical-align: top;\n",
              "    }\n",
              "\n",
              "    .dataframe thead th {\n",
              "        text-align: right;\n",
              "    }\n",
              "</style>\n",
              "<table border=\"1\" class=\"dataframe\">\n",
              "  <thead>\n",
              "    <tr style=\"text-align: right;\">\n",
              "      <th></th>\n",
              "      <th>Unnamed: 0</th>\n",
              "      <th>id_realEstates</th>\n",
              "      <th>isNew</th>\n",
              "      <th>realEstate_name</th>\n",
              "      <th>phone_realEstate</th>\n",
              "      <th>url_inmueble</th>\n",
              "      <th>rooms</th>\n",
              "      <th>bathrooms</th>\n",
              "      <th>surface</th>\n",
              "      <th>price</th>\n",
              "      <th>...</th>\n",
              "      <th>level4Id</th>\n",
              "      <th>level5Id</th>\n",
              "      <th>level6Id</th>\n",
              "      <th>level7Id</th>\n",
              "      <th>level8Id</th>\n",
              "      <th>accuracy</th>\n",
              "      <th>latitude</th>\n",
              "      <th>longitude</th>\n",
              "      <th>zipCode</th>\n",
              "      <th>customZone</th>\n",
              "    </tr>\n",
              "  </thead>\n",
              "  <tbody>\n",
              "    <tr>\n",
              "      <th>0</th>\n",
              "      <td>1</td>\n",
              "      <td>153771986</td>\n",
              "      <td>False</td>\n",
              "      <td>ferrari 57 inmobiliaria</td>\n",
              "      <td>912177526.0</td>\n",
              "      <td>https://www.fotocasa.es/es/comprar/vivienda/ma...</td>\n",
              "      <td>3.0</td>\n",
              "      <td>2.0</td>\n",
              "      <td>103.0</td>\n",
              "      <td>195000</td>\n",
              "      <td>...</td>\n",
              "      <td>0</td>\n",
              "      <td>0</td>\n",
              "      <td>0</td>\n",
              "      <td>0</td>\n",
              "      <td>0</td>\n",
              "      <td>0</td>\n",
              "      <td>40,2948276786438</td>\n",
              "      <td>-3,44402412135624</td>\n",
              "      <td>NaN</td>\n",
              "      <td>NaN</td>\n",
              "    </tr>\n",
              "    <tr>\n",
              "      <th>1</th>\n",
              "      <td>2</td>\n",
              "      <td>153867863</td>\n",
              "      <td>False</td>\n",
              "      <td>tecnocasa fuenlabrada ferrocarril</td>\n",
              "      <td>916358736.0</td>\n",
              "      <td>https://www.fotocasa.es/es/comprar/vivienda/ma...</td>\n",
              "      <td>3.0</td>\n",
              "      <td>1.0</td>\n",
              "      <td>NaN</td>\n",
              "      <td>89000</td>\n",
              "      <td>...</td>\n",
              "      <td>0</td>\n",
              "      <td>0</td>\n",
              "      <td>0</td>\n",
              "      <td>0</td>\n",
              "      <td>0</td>\n",
              "      <td>1</td>\n",
              "      <td>40,28674</td>\n",
              "      <td>-3,79351</td>\n",
              "      <td>NaN</td>\n",
              "      <td>NaN</td>\n",
              "    </tr>\n",
              "    <tr>\n",
              "      <th>2</th>\n",
              "      <td>3</td>\n",
              "      <td>153430440</td>\n",
              "      <td>False</td>\n",
              "      <td>look find boadilla</td>\n",
              "      <td>916350408.0</td>\n",
              "      <td>https://www.fotocasa.es/es/comprar/vivienda/ma...</td>\n",
              "      <td>2.0</td>\n",
              "      <td>2.0</td>\n",
              "      <td>99.0</td>\n",
              "      <td>390000</td>\n",
              "      <td>...</td>\n",
              "      <td>0</td>\n",
              "      <td>0</td>\n",
              "      <td>0</td>\n",
              "      <td>0</td>\n",
              "      <td>0</td>\n",
              "      <td>0</td>\n",
              "      <td>40,4115646786438</td>\n",
              "      <td>-3,90662252135624</td>\n",
              "      <td>NaN</td>\n",
              "      <td>NaN</td>\n",
              "    </tr>\n",
              "    <tr>\n",
              "      <th>3</th>\n",
              "      <td>4</td>\n",
              "      <td>152776331</td>\n",
              "      <td>False</td>\n",
              "      <td>tecnocasa fuenlabrada ferrocarril</td>\n",
              "      <td>916358736.0</td>\n",
              "      <td>https://www.fotocasa.es/es/comprar/vivienda/ma...</td>\n",
              "      <td>3.0</td>\n",
              "      <td>1.0</td>\n",
              "      <td>86.0</td>\n",
              "      <td>89000</td>\n",
              "      <td>...</td>\n",
              "      <td>0</td>\n",
              "      <td>0</td>\n",
              "      <td>0</td>\n",
              "      <td>0</td>\n",
              "      <td>0</td>\n",
              "      <td>0</td>\n",
              "      <td>40,2853785786438</td>\n",
              "      <td>-3,79508142135624</td>\n",
              "      <td>NaN</td>\n",
              "      <td>NaN</td>\n",
              "    </tr>\n",
              "    <tr>\n",
              "      <th>4</th>\n",
              "      <td>5</td>\n",
              "      <td>153180188</td>\n",
              "      <td>False</td>\n",
              "      <td>ferrari 57 inmobiliaria</td>\n",
              "      <td>912177526.0</td>\n",
              "      <td>https://www.fotocasa.es/es/comprar/vivienda/ma...</td>\n",
              "      <td>2.0</td>\n",
              "      <td>2.0</td>\n",
              "      <td>106.0</td>\n",
              "      <td>172000</td>\n",
              "      <td>...</td>\n",
              "      <td>0</td>\n",
              "      <td>0</td>\n",
              "      <td>0</td>\n",
              "      <td>0</td>\n",
              "      <td>0</td>\n",
              "      <td>0</td>\n",
              "      <td>40,2998774864376</td>\n",
              "      <td>-3,45226301356237</td>\n",
              "      <td>NaN</td>\n",
              "      <td>NaN</td>\n",
              "    </tr>\n",
              "    <tr>\n",
              "      <th>...</th>\n",
              "      <td>...</td>\n",
              "      <td>...</td>\n",
              "      <td>...</td>\n",
              "      <td>...</td>\n",
              "      <td>...</td>\n",
              "      <td>...</td>\n",
              "      <td>...</td>\n",
              "      <td>...</td>\n",
              "      <td>...</td>\n",
              "      <td>...</td>\n",
              "      <td>...</td>\n",
              "      <td>...</td>\n",
              "      <td>...</td>\n",
              "      <td>...</td>\n",
              "      <td>...</td>\n",
              "      <td>...</td>\n",
              "      <td>...</td>\n",
              "      <td>...</td>\n",
              "      <td>...</td>\n",
              "      <td>...</td>\n",
              "      <td>...</td>\n",
              "    </tr>\n",
              "    <tr>\n",
              "      <th>15330</th>\n",
              "      <td>15331</td>\n",
              "      <td>153901377</td>\n",
              "      <td>False</td>\n",
              "      <td>infocasa consulting</td>\n",
              "      <td>911360461.0</td>\n",
              "      <td>https://www.fotocasa.es/es/comprar/vivienda/ma...</td>\n",
              "      <td>2.0</td>\n",
              "      <td>1.0</td>\n",
              "      <td>96.0</td>\n",
              "      <td>259470</td>\n",
              "      <td>...</td>\n",
              "      <td>0</td>\n",
              "      <td>0</td>\n",
              "      <td>0</td>\n",
              "      <td>0</td>\n",
              "      <td>0</td>\n",
              "      <td>0</td>\n",
              "      <td>40,45416</td>\n",
              "      <td>-3,70286</td>\n",
              "      <td>NaN</td>\n",
              "      <td>NaN</td>\n",
              "    </tr>\n",
              "    <tr>\n",
              "      <th>15331</th>\n",
              "      <td>15332</td>\n",
              "      <td>150394373</td>\n",
              "      <td>False</td>\n",
              "      <td>inmobiliaria pulpon</td>\n",
              "      <td>912788039.0</td>\n",
              "      <td>https://www.fotocasa.es/es/comprar/vivienda/ma...</td>\n",
              "      <td>3.0</td>\n",
              "      <td>1.0</td>\n",
              "      <td>150.0</td>\n",
              "      <td>165000</td>\n",
              "      <td>...</td>\n",
              "      <td>0</td>\n",
              "      <td>0</td>\n",
              "      <td>0</td>\n",
              "      <td>0</td>\n",
              "      <td>0</td>\n",
              "      <td>0</td>\n",
              "      <td>40,36652</td>\n",
              "      <td>-3,48951</td>\n",
              "      <td>NaN</td>\n",
              "      <td>NaN</td>\n",
              "    </tr>\n",
              "    <tr>\n",
              "      <th>15332</th>\n",
              "      <td>15333</td>\n",
              "      <td>153901397</td>\n",
              "      <td>False</td>\n",
              "      <td>tecnocasa torrelodones</td>\n",
              "      <td>912780348.0</td>\n",
              "      <td>https://www.fotocasa.es/es/comprar/vivienda/ma...</td>\n",
              "      <td>4.0</td>\n",
              "      <td>2.0</td>\n",
              "      <td>175.0</td>\n",
              "      <td>495000</td>\n",
              "      <td>...</td>\n",
              "      <td>0</td>\n",
              "      <td>0</td>\n",
              "      <td>0</td>\n",
              "      <td>0</td>\n",
              "      <td>0</td>\n",
              "      <td>0</td>\n",
              "      <td>40,57444</td>\n",
              "      <td>-3,92124</td>\n",
              "      <td>NaN</td>\n",
              "      <td>NaN</td>\n",
              "    </tr>\n",
              "    <tr>\n",
              "      <th>15333</th>\n",
              "      <td>15334</td>\n",
              "      <td>152607440</td>\n",
              "      <td>False</td>\n",
              "      <td>inmobiliaria pulpon</td>\n",
              "      <td>912788039.0</td>\n",
              "      <td>https://www.fotocasa.es/es/comprar/vivienda/ma...</td>\n",
              "      <td>3.0</td>\n",
              "      <td>2.0</td>\n",
              "      <td>101.0</td>\n",
              "      <td>195000</td>\n",
              "      <td>...</td>\n",
              "      <td>0</td>\n",
              "      <td>0</td>\n",
              "      <td>0</td>\n",
              "      <td>0</td>\n",
              "      <td>0</td>\n",
              "      <td>0</td>\n",
              "      <td>40,36967</td>\n",
              "      <td>-3,48105</td>\n",
              "      <td>NaN</td>\n",
              "      <td>NaN</td>\n",
              "    </tr>\n",
              "    <tr>\n",
              "      <th>15334</th>\n",
              "      <td>15335</td>\n",
              "      <td>153901356</td>\n",
              "      <td>False</td>\n",
              "      <td>infocasa consulting</td>\n",
              "      <td>911360461.0</td>\n",
              "      <td>https://www.fotocasa.es/es/comprar/vivienda/ma...</td>\n",
              "      <td>3.0</td>\n",
              "      <td>2.0</td>\n",
              "      <td>152.0</td>\n",
              "      <td>765000</td>\n",
              "      <td>...</td>\n",
              "      <td>0</td>\n",
              "      <td>0</td>\n",
              "      <td>0</td>\n",
              "      <td>0</td>\n",
              "      <td>0</td>\n",
              "      <td>0</td>\n",
              "      <td>40,45773</td>\n",
              "      <td>-3,69068</td>\n",
              "      <td>NaN</td>\n",
              "      <td>NaN</td>\n",
              "    </tr>\n",
              "  </tbody>\n",
              "</table>\n",
              "<p>15335 rows × 37 columns</p>\n",
              "</div>"
            ],
            "text/plain": [
              "       Unnamed: 0  id_realEstates  isNew                    realEstate_name  \\\n",
              "0               1       153771986  False            ferrari 57 inmobiliaria   \n",
              "1               2       153867863  False  tecnocasa fuenlabrada ferrocarril   \n",
              "2               3       153430440  False                 look find boadilla   \n",
              "3               4       152776331  False  tecnocasa fuenlabrada ferrocarril   \n",
              "4               5       153180188  False            ferrari 57 inmobiliaria   \n",
              "...           ...             ...    ...                                ...   \n",
              "15330       15331       153901377  False                infocasa consulting   \n",
              "15331       15332       150394373  False                inmobiliaria pulpon   \n",
              "15332       15333       153901397  False             tecnocasa torrelodones   \n",
              "15333       15334       152607440  False                inmobiliaria pulpon   \n",
              "15334       15335       153901356  False                infocasa consulting   \n",
              "\n",
              "       phone_realEstate                                       url_inmueble  \\\n",
              "0           912177526.0  https://www.fotocasa.es/es/comprar/vivienda/ma...   \n",
              "1           916358736.0  https://www.fotocasa.es/es/comprar/vivienda/ma...   \n",
              "2           916350408.0  https://www.fotocasa.es/es/comprar/vivienda/ma...   \n",
              "3           916358736.0  https://www.fotocasa.es/es/comprar/vivienda/ma...   \n",
              "4           912177526.0  https://www.fotocasa.es/es/comprar/vivienda/ma...   \n",
              "...                 ...                                                ...   \n",
              "15330       911360461.0  https://www.fotocasa.es/es/comprar/vivienda/ma...   \n",
              "15331       912788039.0  https://www.fotocasa.es/es/comprar/vivienda/ma...   \n",
              "15332       912780348.0  https://www.fotocasa.es/es/comprar/vivienda/ma...   \n",
              "15333       912788039.0  https://www.fotocasa.es/es/comprar/vivienda/ma...   \n",
              "15334       911360461.0  https://www.fotocasa.es/es/comprar/vivienda/ma...   \n",
              "\n",
              "       rooms  bathrooms  surface   price  ... level4Id level5Id level6Id  \\\n",
              "0        3.0        2.0    103.0  195000  ...        0        0        0   \n",
              "1        3.0        1.0      NaN   89000  ...        0        0        0   \n",
              "2        2.0        2.0     99.0  390000  ...        0        0        0   \n",
              "3        3.0        1.0     86.0   89000  ...        0        0        0   \n",
              "4        2.0        2.0    106.0  172000  ...        0        0        0   \n",
              "...      ...        ...      ...     ...  ...      ...      ...      ...   \n",
              "15330    2.0        1.0     96.0  259470  ...        0        0        0   \n",
              "15331    3.0        1.0    150.0  165000  ...        0        0        0   \n",
              "15332    4.0        2.0    175.0  495000  ...        0        0        0   \n",
              "15333    3.0        2.0    101.0  195000  ...        0        0        0   \n",
              "15334    3.0        2.0    152.0  765000  ...        0        0        0   \n",
              "\n",
              "      level7Id level8Id accuracy          latitude          longitude zipCode  \\\n",
              "0            0        0        0  40,2948276786438  -3,44402412135624     NaN   \n",
              "1            0        0        1          40,28674           -3,79351     NaN   \n",
              "2            0        0        0  40,4115646786438  -3,90662252135624     NaN   \n",
              "3            0        0        0  40,2853785786438  -3,79508142135624     NaN   \n",
              "4            0        0        0  40,2998774864376  -3,45226301356237     NaN   \n",
              "...        ...      ...      ...               ...                ...     ...   \n",
              "15330        0        0        0          40,45416           -3,70286     NaN   \n",
              "15331        0        0        0          40,36652           -3,48951     NaN   \n",
              "15332        0        0        0          40,57444           -3,92124     NaN   \n",
              "15333        0        0        0          40,36967           -3,48105     NaN   \n",
              "15334        0        0        0          40,45773           -3,69068     NaN   \n",
              "\n",
              "      customZone  \n",
              "0            NaN  \n",
              "1            NaN  \n",
              "2            NaN  \n",
              "3            NaN  \n",
              "4            NaN  \n",
              "...          ...  \n",
              "15330        NaN  \n",
              "15331        NaN  \n",
              "15332        NaN  \n",
              "15333        NaN  \n",
              "15334        NaN  \n",
              "\n",
              "[15335 rows x 37 columns]"
            ]
          },
          "execution_count": 412,
          "metadata": {},
          "output_type": "execute_result"
        }
      ],
      "source": [
        "import pandas as pd\n",
        "import numpy as np\n",
        "# Este archivo CSV contiene puntos y comas en lugar de comas como separadores\n",
        "ds = pd.read_csv('assets/real_estate.csv', sep=';')\n",
        "ds"
      ]
    },
    {
      "attachments": {},
      "cell_type": "markdown",
      "id": "latin-guest",
      "metadata": {},
      "source": [
        "#### Ejercicio 01. ¿Cuál es la casa más cara en todo el dataset? (★☆☆)\n",
        "\n",
        "Imprime la dirección y el precio de la casa seleccionada. Por ejemplo:\n",
        "\n",
        "`La casa con dirección en Calle del Prado, Nº20 es la más cara y su precio es de 5000000 USD`"
      ]
    },
    {
      "cell_type": "code",
      "execution_count": 403,
      "id": "developing-optimum",
      "metadata": {},
      "outputs": [
        {
          "name": "stdout",
          "output_type": "stream",
          "text": [
            " La casa con dirección en Calle El Escorial,№ nan es la más cara y su precio es de 8500000 USD\n"
          ]
        }
      ],
      "source": [
        "# TODO\n",
        "dtype = ({\n",
        "'id_realEstates': 'int64',\n",
        "'isNew': bool,\n",
        "'realEstate_name': object,\n",
        "'phone_realEstate':    'float64',\n",
        "'url_inmueble': object,\n",
        "'rooms':  'float64',\n",
        "'bathrooms': 'float64',\n",
        "'surface': 'float64',\n",
        "'price': 'int64',\n",
        "'date': object,\n",
        "'description': object,\n",
        "'address':  object,\n",
        "'country': object,\n",
        "'level1': object,\n",
        "'level2': object,\n",
        "'level3': object,\n",
        "'level4': object,\n",
        "'level5': object,\n",
        "'level6': object,\n",
        "'level7': object,\n",
        "'level8': object,\n",
        "'upperLevel': object,\n",
        "'countryId': object,\n",
        "'level1Id': 'int64',\n",
        "'level2Id': 'int64',\n",
        "'level3Id': 'int64',\n",
        "'level4Id': 'int64',\n",
        "'level5Id': 'int64',\n",
        "'level6Id': 'int64',\n",
        "'level7Id': 'int64',\n",
        "'level8Id': 'int64',\n",
        "'accuracy': 'int64',\n",
        "'latitude': object,\n",
        "'longitude': object,\n",
        "'zipCode': object,\n",
        "'customZone': 'float64',\n",
        "})\n",
        "df = pd.read_csv('assets/real_estate.csv', sep= ';', decimal='.', dtype=dtype)\n",
        "propiedad_max = df.loc[df['price'].idxmax()]\n",
        "calle_max = propiedad_max['address']\n",
        "surface_max = propiedad_max['surface']\n",
        "print(f\" La casa con dirección en Calle {propiedad_max['address']},№ {propiedad_max['surface']} es la más cara y su precio es de {propiedad_max['price']:.0f} USD\")"
      ]
    },
    {
      "attachments": {},
      "cell_type": "markdown",
      "id": "lesser-cosmetic",
      "metadata": {},
      "source": [
        "#### Ejercicio 02. ¿Cuál es la casa más barata del dataset? (★☆☆)\n",
        "\n",
        "Imprime la dirección y el precio de la casa seleccionada. Por ejemplo:\n",
        "\n",
        "`La casa con dirección en Calle Alcalá, Nº58 es la más barata y su precio es de 12000 USD`"
      ]
    },
    {
      "cell_type": "code",
      "execution_count": 404,
      "id": "lovely-oasis",
      "metadata": {},
      "outputs": [
        {
          "name": "stdout",
          "output_type": "stream",
          "text": [
            " La casa con dirección en Calle Parla,№ 262.0 es la más cara y su precio es de 0 USD\n"
          ]
        }
      ],
      "source": [
        "# TODO\n",
        "df = pd.read_csv('assets/real_estate.csv', sep= ';')\n",
        "propiedad_min = df.loc[df['price'].idxmin()]\n",
        "calle_max = propiedad_min['address']\n",
        "surface_max = propiedad_min['surface']\n",
        "print(f\" La casa con dirección en Calle {propiedad_min['address']},№ {propiedad_min['surface']} es la más cara y su precio es de {propiedad_min['price']:.0f} USD\")"
      ]
    },
    {
      "attachments": {},
      "cell_type": "markdown",
      "id": "compliant-fellowship",
      "metadata": {},
      "source": [
        "#### Ejercicio 03. ¿Cuál es la casa más grande y la más pequeña del dataset? (★☆☆)\n",
        "\n",
        "Imprime la dirección y el área de las casas seleccionadas. Por ejemplo:\n",
        "\n",
        "`La casa más grande está ubicada en Calle Gran Vía, Nº38 y su superficie es de 5000 metros`\n",
        "\n",
        "`La casa más pequeña está ubicada en Calle Mayor, Nº12 y su superficie es de 200 metros`"
      ]
    },
    {
      "cell_type": "code",
      "execution_count": 405,
      "id": "every-tiffany",
      "metadata": {},
      "outputs": [
        {
          "name": "stdout",
          "output_type": "stream",
          "text": [
            " La casa más grande está ubicada en Calle Sevilla la Nueva Nº 249000  y su superficie es de nan metros\n",
            " La casa más pequeña está ubicada en Calle Calle Amparo,  Madrid Capital Nº 15  y su superficie es de 262.0 metros\n",
            "N° es superficie, sí se buscaba el numero interior en el que se encuentra la casa en la direccion que correspondeabria que limpiar la descripción\n",
            "OBSERVACION en el ejemplo 2 del ejercicio 3 muestra una Casa existente en el dataset       la superficie no tiene unidades, geometricamente la superficie se definiria como un polígono cerrado delimitado por puntos tipo \n",
            "\n",
            " superficie = [\n",
            "{puntox: 0, puntoy: 0},\n",
            "{puntox: 0, puntoy: 10},\n",
            "{puntox: 10, puntoy: 10}\n",
            " {puntox: 10, puntoy: 0}\n",
            " ]  \n",
            " entonces si es un poligono regular como un cuadrado y su area \n",
            " es de 262m² sus lados serian la raiz cuadrada de su área \n",
            "aprox 16.19m y \n",
            " superficie = [\n",
            "{x: 0, y: 0},\n",
            "{x: 0, y: 16.19},\n",
            "{x: 16.19, y: 16.19}\n",
            " {x: 16.19, y: 0}\n",
            "]\n"
          ]
        }
      ],
      "source": [
        "# TODO\n",
        "dtype = ({\n",
        "'id_realEstates': 'int64',\n",
        "'isNew': bool,\n",
        "'realEstate_name': object,\n",
        "'phone_realEstate':    'float64',\n",
        "'url_inmueble': object,\n",
        "'rooms':  'float64',\n",
        "'bathrooms': 'float64',\n",
        "'surface': 'float64',\n",
        "'price': 'int64',\n",
        "'date': object,\n",
        "'description': object,\n",
        "'address':  object,\n",
        "'country': object,\n",
        "'level1': object,\n",
        "'level2': object,\n",
        "'level3': object,\n",
        "'level4': object,\n",
        "'level5': object,\n",
        "'level6': object,\n",
        "'level7': object,\n",
        "'level8': object,\n",
        "'upperLevel': object,\n",
        "'countryId': object,\n",
        "'level1Id': 'int64',\n",
        "'level2Id': 'int64',\n",
        "'level3Id': 'int64',\n",
        "'level4Id': 'int64',\n",
        "'level5Id': 'int64',\n",
        "'level6Id': 'int64',\n",
        "'level7Id': 'int64',\n",
        "'level8Id': 'int64',\n",
        "'accuracy': 'int64',\n",
        "'latitude': object,\n",
        "'longitude': object,\n",
        "'zipCode': object,\n",
        "'customZone': 'float64',\n",
        "})\n",
        "df = pd.read_csv('assets/real_estate.csv', sep= ';', dtype=dtype)\n",
        "max_area = df.loc[df['surface'].idxmax()] #sortmaxsurface\n",
        "sstreet_max = max_area['surface']\n",
        "###\n",
        "propiedad_ssmax = df.loc[df['surface'].idxmax()]\n",
        "calle_ssmax = propiedad_max['address']\n",
        "###\n",
        "propiedad_ssmin = df.loc[df['surface'].idxmin()]\n",
        "calle_ssmin = propiedad_min['address']\n",
        "###\n",
        "#print((f\" {sstreet_max:.0f}\"), f\" {propiedad_max['surface']}\")\n",
        "min_area = df.loc[df['surface'].idxmin()] #sortmaxsurface\n",
        "sstreet_min = min_area['surface']\n",
        "print((f\" La casa más grande está ubicada en Calle {propiedad_ssmax['address']} Nº {sstreet_max:.0f}\"), f\" y su superficie es de {propiedad_max['surface']} metros\")\n",
        "print((f\" La casa más pequeña está ubicada en Calle {propiedad_ssmin['address']} Nº {sstreet_min:.0f}\"), f\" y su superficie es de {propiedad_min['surface']} metros\")\n",
        "print(\"N° es superficie, sí se buscaba el numero interior en el que se encuentra la casa en la direccion que corresponde\" \\\n",
        "\"abria que limpiar la descripción\")\n",
        "print(\"OBSERVACION en el ejemplo 2 del ejercicio 3 muestra una Casa existente en el dataset \\\n",
        "      la superficie no tiene unidades, geometricamente la superficie se \" \\\n",
        "\"definiria como un polígono cerrado delimitado por puntos tipo \\n\" \\\n",
        "\"\\n superficie = [\\n\" \\\n",
        "\"{puntox: 0, puntoy: 0},\\n\" \\\n",
        "\"{puntox: 0, puntoy: 10},\\n\" \\\n",
        "\"{puntox: 10, puntoy: 10}\\n\", \\\n",
        "\"{puntox: 10, puntoy: 0}\\n ]\", \\\n",
        "     \" \\n entonces si es un poligono regular como un cuadrado y su area \\n \"\n",
        "        \"es de 262m² sus lados serian la raiz cuadrada de su área \\n\" \\\n",
        "            \"aprox 16.19m y\", \"\\n superficie = [\\n\" \\\n",
        "\"{x: 0, y: 0},\\n\" \\\n",
        "\"{x: 0, y: 16.19},\\n\" \\\n",
        "\"{x: 16.19, y: 16.19}\\n\", \\\n",
        "\"{x: 16.19, y: 0}\\n]\" )"
      ]
    },
    {
      "attachments": {},
      "cell_type": "markdown",
      "id": "danish-spirit",
      "metadata": {},
      "source": [
        "#### Ejercicio 04. ¿Cuantas poblaciones (columna level5) contiene el dataset? (★☆☆)\n",
        "\n",
        "Imprime el nombre de las poblaciones separadas por coma. Por ejemplo:\n",
        "\n",
        "`> print(populations)`\n",
        "\n",
        "`population1, population2, population3, ...`"
      ]
    },
    {
      "cell_type": "code",
      "execution_count": 406,
      "id": "exciting-accreditation",
      "metadata": {},
      "outputs": [
        {
          "name": "stdout",
          "output_type": "stream",
          "text": [
            "                       Unnamed: 0  id_realEstates  isNew  \\\n",
            "level5                                                     \n",
            " Madrid Capital                10       153215459  False   \n",
            "Ajalvir                      1771       152605660  False   \n",
            "Alcalá de Henares              46       151606708  False   \n",
            "Alcobendas                    283       153240848  False   \n",
            "Alcorcón                       86       153152077  False   \n",
            "...                           ...             ...    ...   \n",
            "Villar del Olmo              6127       143064727  False   \n",
            "Villarejo de Salvanés        4774       153944477  False   \n",
            "Villaviciosa de Odón           12       151795159  False   \n",
            "Villavieja del Lozoya        7362       150868262  False   \n",
            "Zarzalejo                    7193       153918372  False   \n",
            "\n",
            "                                                 realEstate_name  \\\n",
            "level5                                                             \n",
            " Madrid Capital                                          modesta   \n",
            "Ajalvir                                                  ecocasa   \n",
            "Alcalá de Henares                                      ingescasa   \n",
            "Alcobendas                                    gilmar la moraleja   \n",
            "Alcorcón                                 sinergical inmobiliaria   \n",
            "...                                                          ...   \n",
            "Villar del Olmo        aliseda servicios de gestion inmobiliaria   \n",
            "Villarejo de Salvanés                                  garsierra   \n",
            "Villaviciosa de Odón                                    gm house   \n",
            "Villavieja del Lozoya                           haya real estate   \n",
            "Zarzalejo                                casa direct el escorial   \n",
            "\n",
            "                       phone_realEstate  \\\n",
            "level5                                    \n",
            " Madrid Capital             918007516.0   \n",
            "Ajalvir                     914894653.0   \n",
            "Alcalá de Henares           912789768.0   \n",
            "Alcobendas                  912188023.0   \n",
            "Alcorcón                    912664081.0   \n",
            "...                                 ...   \n",
            "Villar del Olmo             911368194.0   \n",
            "Villarejo de Salvanés       912179623.0   \n",
            "Villaviciosa de Odón        916357589.0   \n",
            "Villavieja del Lozoya       911228034.0   \n",
            "Zarzalejo                   916355572.0   \n",
            "\n",
            "                                                            url_inmueble  \\\n",
            "level5                                                                     \n",
            " Madrid Capital        https://www.fotocasa.es/es/comprar/vivienda/ma...   \n",
            "Ajalvir                https://www.fotocasa.es/vivienda/madrid-capita...   \n",
            "Alcalá de Henares      https://www.fotocasa.es/es/comprar/vivienda/ma...   \n",
            "Alcobendas             https://www.fotocasa.es/es/comprar/vivienda/ma...   \n",
            "Alcorcón               https://www.fotocasa.es/es/comprar/vivienda/le...   \n",
            "...                                                                  ...   \n",
            "Villar del Olmo        https://www.fotocasa.es/es/comprar/vivienda/ma...   \n",
            "Villarejo de Salvanés  https://www.fotocasa.es/es/comprar/vivienda/ma...   \n",
            "Villaviciosa de Odón   https://www.fotocasa.es/es/comprar/vivienda/ma...   \n",
            "Villavieja del Lozoya  https://www.fotocasa.es/vivienda/madrid-capita...   \n",
            "Zarzalejo              https://www.fotocasa.es/es/comprar/vivienda/al...   \n",
            "\n",
            "                       rooms  bathrooms  surface   price  ... level4Id  \\\n",
            "level5                                                    ...            \n",
            " Madrid Capital          4.0        2.0    129.0  350000  ...        0   \n",
            "Ajalvir                  2.0        2.0    100.0  172000  ...        0   \n",
            "Alcalá de Henares        2.0        2.0     98.0  192000  ...        0   \n",
            "Alcobendas               6.0        4.0    260.0  925000  ...        0   \n",
            "Alcorcón                 1.0        1.0     50.0  107000  ...        0   \n",
            "...                      ...        ...      ...     ...  ...      ...   \n",
            "Villar del Olmo          5.0        1.0    259.0  170100  ...        0   \n",
            "Villarejo de Salvanés    6.0        2.0    256.0  159000  ...        0   \n",
            "Villaviciosa de Odón     4.0        3.0    246.0  540000  ...        0   \n",
            "Villavieja del Lozoya    2.0        2.0    370.0   99411  ...        0   \n",
            "Zarzalejo                1.0        1.0     67.0  130000  ...        0   \n",
            "\n",
            "                      level5Id level6Id level7Id level8Id accuracy  \\\n",
            "level5                                                               \n",
            " Madrid Capital              0        0        0        0        0   \n",
            "Ajalvir                      0        0        0        0        1   \n",
            "Alcalá de Henares            0        0        0        0        0   \n",
            "Alcobendas                   0        0        0        0        0   \n",
            "Alcorcón                     0        0        0        0        1   \n",
            "...                        ...      ...      ...      ...      ...   \n",
            "Villar del Olmo              0        0        0        0        1   \n",
            "Villarejo de Salvanés        0        0        0        0        1   \n",
            "Villaviciosa de Odón         0        0        0        0        0   \n",
            "Villavieja del Lozoya        0        0        0        0        1   \n",
            "Zarzalejo                    0        0        0        0        1   \n",
            "\n",
            "                               latitude          longitude zipCode customZone  \n",
            "level5                                                                         \n",
            " Madrid Capital                40,37502           -3,74391    None        NaN  \n",
            "Ajalvir                        40,53462           -3,47812    None        NaN  \n",
            "Alcalá de Henares           40,51221795        -3,35943348    None        NaN  \n",
            "Alcobendas                     40,52689           -3,63422    None        NaN  \n",
            "Alcorcón                       40,35059           -3,82693    None        NaN  \n",
            "...                                 ...                ...     ...        ...  \n",
            "Villar del Olmo              40,3481499           -3,24932    None        NaN  \n",
            "Villarejo de Salvanés          40,16859           -3,26816    None        NaN  \n",
            "Villaviciosa de Odón   40,3667178869885  -3,92641067504883    None        NaN  \n",
            "Villavieja del Lozoya          41,00666           -3,67268    None        NaN  \n",
            "Zarzalejo                      40,53933           -4,15748    None        NaN  \n",
            "\n",
            "[168 rows x 36 columns]\n"
          ]
        }
      ],
      "source": [
        "# TODO\n",
        "import numpy as np\n",
        "#for column in df.columns:\n",
        "popsinl5 = df['level5'].unique()\n",
        "    #print(f\" populations: '{column}': {popsinl5}\")\n",
        "agruparl5 = df.groupby(['level5'])\n",
        "print(agruparl5.first())\n",
        "#print(df.apply(lambda level5: level5.unique()))"
      ]
    },
    {
      "attachments": {},
      "cell_type": "markdown",
      "id": "crazy-blame",
      "metadata": {},
      "source": [
        "#### Ejercicio 05. ¿El dataset contiene valores no admitidos (NAs)? (★☆☆)\n",
        "\n",
        "Imprima un booleano (`True` o `False`) seguido de la fila/columna que contiene el NAs."
      ]
    },
    {
      "cell_type": "code",
      "execution_count": 407,
      "id": "transparent-poetry",
      "metadata": {},
      "outputs": [
        {
          "name": "stdout",
          "output_type": "stream",
          "text": [
            " False '262' / 'isNew'\n"
          ]
        },
        {
          "data": {
            "text/plain": [
              "Unnamed: 0              0\n",
              "id_realEstates          0\n",
              "isNew                   0\n",
              "realEstate_name        10\n",
              "phone_realEstate      794\n",
              "url_inmueble            0\n",
              "rooms                 353\n",
              "bathrooms             345\n",
              "surface              1250\n",
              "price                   0\n",
              "date                    0\n",
              "description           142\n",
              "address                 0\n",
              "country                 0\n",
              "level1                  0\n",
              "level2                  0\n",
              "level3                  0\n",
              "level4               6643\n",
              "level5                  0\n",
              "level6              14627\n",
              "level7               2277\n",
              "level8               8579\n",
              "upperLevel              0\n",
              "countryId               0\n",
              "level1Id                0\n",
              "level2Id                0\n",
              "level3Id                0\n",
              "level4Id                0\n",
              "level5Id                0\n",
              "level6Id                0\n",
              "level7Id                0\n",
              "level8Id                0\n",
              "accuracy                0\n",
              "latitude                0\n",
              "longitude               0\n",
              "zipCode             15335\n",
              "customZone          15335\n",
              "dtype: int64"
            ]
          },
          "execution_count": 407,
          "metadata": {},
          "output_type": "execute_result"
        }
      ],
      "source": [
        "# TODO\n",
        "dtype = ({\n",
        "'id_realEstates': 'int64',\n",
        "'isNew': bool,\n",
        "'realEstate_name': object,\n",
        "'phone_realEstate': 'float64',\n",
        "'url_inmueble': object,\n",
        "'rooms':  'float64',\n",
        "'bathrooms': 'float64',\n",
        "'surface': 'float64',\n",
        "'price': 'int64',\n",
        "'date': object,\n",
        "'description': object,\n",
        "'address':  object,\n",
        "'country': object,\n",
        "'level1': object,\n",
        "'level2': object,\n",
        "'level3': object,\n",
        "'level4': object,\n",
        "'level5': object,\n",
        "'level6': object,\n",
        "'level7': object,\n",
        "'level8': object,\n",
        "'upperLevel': object,\n",
        "'countryId': object,\n",
        "'level1Id': 'int64',\n",
        "'level2Id': 'int64',\n",
        "'level3Id': 'int64',\n",
        "'level4Id': 'int64',\n",
        "'level5Id': 'int64',\n",
        "'level6Id': 'int64',\n",
        "'level7Id': 'int64',\n",
        "'level8Id': 'int64',\n",
        "'accuracy': 'int64',\n",
        "'latitude': object,\n",
        "'longitude': object,\n",
        "'zipCode': object,\n",
        "'customZone': 'float64',\n",
        "})\n",
        "df = pd.read_csv('assets/real_estate.csv', sep= ';', dtype=dtype)\n",
        "df\n",
        "#print(ds.dtypes)\n",
        "def NAs_xy(df):\n",
        "    for i in range(len(df)):\n",
        "        for j in range(len(df.columns)):\n",
        "            isvaluenas = df.iloc[i, j]\n",
        "            ifila = i + 1\n",
        "            icolumna = j + 1\n",
        "            if pd.isna(isvaluenas):\n",
        "                print(f\"True {ifila} / {icolumna}\")\n",
        "            else:\n",
        "                print(f\" False  {ifila} / {icolumna}\")\n",
        "\n",
        "def isdataframenull(df):\n",
        "    if df.empty:\n",
        "        print(\"DataFrame Vacio\")\n",
        "        return\n",
        "    \n",
        "valor_incellna = df.loc[262, 'isNew']\n",
        "print(f\" {valor_incellna} '262' / 'isNew'\")\n",
        "df.isnull().sum()\n",
        "#df.isnull().any()"
      ]
    },
    {
      "attachments": {},
      "cell_type": "markdown",
      "id": "italic-hydrogen",
      "metadata": {},
      "source": [
        "#### Ejercicio 06. Elimina los NAs del dataset, si aplica (★★☆)\n",
        "\n",
        "Imprima una comparación entre las dimensiones del DataFrame original versus el DataFrame después de las eliminaciones.\n"
      ]
    },
    {
      "cell_type": "code",
      "execution_count": 408,
      "id": "administrative-roads",
      "metadata": {},
      "outputs": [
        {
          "name": "stdout",
          "output_type": "stream",
          "text": [
            "id_realEstates      15335\n",
            "isNew               15335\n",
            "realEstate_name     15325\n",
            "phone_realEstate    14541\n",
            "url_inmueble        15335\n",
            "rooms               14982\n",
            "bathrooms           14990\n",
            "surface             14085\n",
            "price               15335\n",
            "date                15335\n",
            "description         15193\n",
            "address             15335\n",
            "country             15335\n",
            "level1              15335\n",
            "level2              15335\n",
            "level3              15335\n",
            "level4               8692\n",
            "level5              15335\n",
            "level6                708\n",
            "level7              13058\n",
            "level8               6756\n",
            "upperLevel          15335\n",
            "countryId           15335\n",
            "level1Id            15335\n",
            "level2Id            15335\n",
            "level3Id            15335\n",
            "level4Id            15335\n",
            "level5Id            15335\n",
            "level6Id            15335\n",
            "level7Id            15335\n",
            "level8Id            15335\n",
            "accuracy            15335\n",
            "latitude            15335\n",
            "longitude           15335\n",
            "zipCode                 0\n",
            "customZone              0\n",
            "dtype: int64\n",
            "Unnamed: 0          15335\n",
            "id_realEstates      15335\n",
            "isNew               15335\n",
            "realEstate_name     15325\n",
            "phone_realEstate    14541\n",
            "url_inmueble        15335\n",
            "rooms               14982\n",
            "bathrooms           14990\n",
            "surface             14085\n",
            "price               15335\n",
            "date                15335\n",
            "description         15193\n",
            "address             15335\n",
            "country             15335\n",
            "level1              15335\n",
            "level2              15335\n",
            "level3              15335\n",
            "level4               8692\n",
            "level5              15335\n",
            "level6                708\n",
            "level7              13058\n",
            "level8               6756\n",
            "upperLevel          15335\n",
            "countryId           15335\n",
            "level1Id            15335\n",
            "level2Id            15335\n",
            "level3Id            15335\n",
            "level4Id            15335\n",
            "level5Id            15335\n",
            "level6Id            15335\n",
            "level7Id            15335\n",
            "level8Id            15335\n",
            "accuracy            15335\n",
            "latitude            15335\n",
            "longitude           15335\n",
            "zipCode                 0\n",
            "customZone              0\n",
            "dtype: int64\n"
          ]
        }
      ],
      "source": [
        "# TODO\n",
        "#no aplica\n",
        "df = pd.read_csv('assets/real_estate.csv', sep= ';', index_col=0)\n",
        "df_dropped_alt = df[df.notnull().any(axis=1)]\n",
        "print(df_dropped_alt.count())\n",
        "print(ds.count())\n",
        "\n"
      ]
    },
    {
      "attachments": {},
      "cell_type": "markdown",
      "id": "middle-china",
      "metadata": {},
      "source": [
        "#### Ejercicio 07. ¿Cuál la media de precios en la población (columna level5) de \"Arroyomolinos (Madrid)\"? (★★☆)\n",
        "\n",
        "Imprima el valor obtenido."
      ]
    },
    {
      "cell_type": "code",
      "execution_count": 409,
      "id": "nuclear-belief",
      "metadata": {},
      "outputs": [
        {
          "data": {
            "text/plain": [
              "level5\n",
              "Arroyomolinos (Madrid)    294541.59854\n",
              "Name: price, dtype: float64"
            ]
          },
          "execution_count": 409,
          "metadata": {},
          "output_type": "execute_result"
        }
      ],
      "source": [
        "# TODO\n",
        "df = pd.read_csv('assets/real_estate.csv', sep= ';', index_col=0)\n",
        "df[df['level5'] == \"Arroyomolinos (Madrid)\"].groupby('level5')['price'].mean()\n",
        "\n"
      ]
    },
    {
      "attachments": {},
      "cell_type": "markdown",
      "id": "concerned-radical",
      "metadata": {},
      "source": [
        "#### Ejercicio 08. Trazar el histograma de los precios para la población (level5 column) de \"Arroyomolinos (Madrid)\" y explica qué observas (★★☆)\n",
        "\n",
        "Imprime el histograma de los precios y escribe en la celda del Markdown un breve análisis del trazado.\n"
      ]
    },
    {
      "cell_type": "code",
      "execution_count": 410,
      "id": "sudden-message",
      "metadata": {},
      "outputs": [
        {
          "data": {
            "image/png": "[encoded data removed]",
            "text/plain": [
              "<Figure size 640x480 with 1 Axes>"
            ]
          },
          "metadata": {},
          "output_type": "display_data"
        }
      ],
      "source": [
        "# TODO: Code\n",
        "import matplotlib.pyplot as plt\n",
        "df_histograma = df[df['level5'] == 'Arroyomolinos (Madrid)']\n",
        "counts, bins, patches = plt.hist(df_histograma['price'], density=True, color='orange', alpha=0.7)\n",
        "plt.xlabel(\"Precios\")\n",
        "plt.ylabel(\"Propiedades\")\n",
        "plt.title(\"Histograma de Valores de precios de Arroyomolinos Madrid\")\n",
        "plt.show()"
      ]
    },
    {
      "attachments": {},
      "cell_type": "markdown",
      "id": "impressed-combination",
      "metadata": {},
      "source": [
        "**TODO: Markdown**. Se observa que menos de 1 propiedad cuesta menos de 10,000 y la distribucion media ronda entre los 20,000 y 40,000"
      ]
    },
    {
      "attachments": {},
      "cell_type": "markdown",
      "id": "actual-edinburgh",
      "metadata": {},
      "source": [
        "#### Ejercicio 09. ¿Son los precios promedios de \"Valdemorillo\" y \"Galapagar\" los mismos? (★★☆)\n",
        "\n",
        "Imprime ambos promedios y escribe una conclusión sobre ellos."
      ]
    },
    {
      "cell_type": "code",
      "execution_count": 411,
      "id": "numeric-commerce",
      "metadata": {},
      "outputs": [
        {
          "name": "stdout",
          "output_type": "stream",
          "text": [
            "Precio promedio de(level5\n",
            "Valdemorillo    363860.293103\n",
            "Name: price, dtype: float64, level5\n",
            "Galapagar    360063.202381\n",
            "Name: price, dtype: float64) \n",
            " \n",
            " Las casas de Valdemorillo son en promedio 1.05% más caras \n",
            " Valdemorillo/Galapagar = 363860/360063 = 1.05%\n"
          ]
        }
      ],
      "source": [
        "# TODO\n",
        "valdemorillomean = ds[ds['level5'] == \"Valdemorillo\"].groupby('level5')['price'].mean()\n",
        "galapagarmean = ds[ds['level5'] == \"Galapagar\"].groupby('level5')['price'].mean()\n",
        "\n",
        "print(f\"Precio promedio de{valdemorillomean  , galapagarmean} \\n \\n Las casas de Valdemorillo son en promedio 1.05% más caras \\n Valdemorillo/Galapagar = 363860/360063 = 1.05%\")\n"
      ]
    },
    {
      "attachments": {},
      "cell_type": "markdown",
      "id": "lonely-article",
      "metadata": {},
      "source": [
        "#### Ejercicio 10. ¿Son los promedios de precio por metro cuadrado (precio/m2) de \"Valdemorillo\" y \"Galapagar\" los mismos? (★★☆)\n",
        "\n",
        "Imprime ambos promedios de precio por metro cuadrado y escribe una conclusión sobre ellos.\n",
        "\n",
        "Pista: Crea una nueva columna llamada `pps` (*price per square* o precio por metro cuadrado) y luego analiza los valores."
      ]
    },
    {
      "cell_type": "markdown",
      "id": "961f1b8d",
      "metadata": {},
      "source": [
        "¿A partir de surface?"
      ]
    },
    {
      "cell_type": "code",
      "execution_count": 497,
      "id": "hourly-globe",
      "metadata": {},
      "outputs": [
        {
          "name": "stdout",
          "output_type": "stream",
          "text": [
            "Valdemorillo 1178.5257998852853\n",
            "Galapagar 1190.9540884506687\n",
            "Valdemorillo, es en promedio mas barata que Galapagar \n"
          ]
        }
      ],
      "source": [
        "# TODO\n",
        "df['pps'] = df['price'] / df['surface']\n",
        "valdemorillomean_surface = ds[ds['level5'] == \"Valdemorillo\"].groupby('level5')['surface'].mean()\n",
        "valdemorillomean_price = ds[ds['level5'] == \"Valdemorillo\"].groupby('level5')['price'].mean()\n",
        "galapagarmean_surface = ds[ds['level5'] == \"Galapagar\"].groupby('level5')['surface'].mean()\n",
        "galapagarmean_price = ds[ds['level5'] == \"Galapagar\"].groupby('level5')['price'].mean()\n",
        "\n",
        "#convertir a float\n",
        "galapagarmean_pricefloat = galapagarmean_price.values[0]\n",
        "galapagarmean_surfacefloat =galapagarmean_surface.values[0]\n",
        "valdemorillomean_surfacefloat = valdemorillomean_surface.values[0]\n",
        "valdemorillomean_pricefloat = valdemorillomean_price.values[0]\n",
        "divresultadog = float (galapagarmean_pricefloat) / galapagarmean_surfacefloat\n",
        "divresultadov = float (valdemorillomean_pricefloat) / galapagarmean_surfacefloat\n",
        "print(\"Valdemorillo\", divresultadog)\n",
        "print(\"Galapagar\", divresultadov)\n",
        "print(\"Valdemorillo, es en promedio mas barata que Galapagar \")"
      ]
    },
    {
      "attachments": {},
      "cell_type": "markdown",
      "id": "pleasant-invite",
      "metadata": {},
      "source": [
        "#### Ejercicio 11. Analiza la relación entre la superficie y el precio de las casas. (★★☆)\n",
        "\n",
        "Pista: Puedes hacer un `scatter plot` y luego escribir una conclusión al respecto."
      ]
    },
    {
      "cell_type": "code",
      "execution_count": 504,
      "id": "common-drilling",
      "metadata": {},
      "outputs": [
        {
          "data": {
            "image/png": "[encoded data removed]",
            "text/plain": [
              "<Figure size 640x480 with 1 Axes>"
            ]
          },
          "metadata": {},
          "output_type": "display_data"
        }
      ],
      "source": [
        "# TODO: Código\n",
        "# TODO: Code\n",
        "import matplotlib.pyplot as plt\n",
        "#ax1 = df.plot.scatter('surface', 'price')\n",
        "df.plot.scatter(x='pps', y='price', s=df['pps'], c='purple')\n",
        "plt.title(\"Grafico de dispersion de Valores de precios y superficie\")\n",
        "plt.xlabel(\"Precio\")\n",
        "plt.ylabel(\"Superficie\")\n",
        "plt.grid(True)\n",
        "plt.show()"
      ]
    },
    {
      "attachments": {},
      "cell_type": "markdown",
      "id": "ahead-liquid",
      "metadata": {},
      "source": [
        "**TODO: Markdown**. Para escribir aquí, haz doble clic en esta celda, elimina este contenido y coloca lo que quieras escribir. Luego ejecuta la celda."
      ]
    },
    {
      "attachments": {},
      "cell_type": "markdown",
      "id": "coordinate-sunrise",
      "metadata": {},
      "source": [
        "#### Ejercicio 12. ¿Cuántas agencia de bienes raíces contiene el dataset? (★★☆)\n",
        "\n",
        "Imprime el valor obtenido."
      ]
    },
    {
      "cell_type": "code",
      "execution_count": 375,
      "id": "valid-honolulu",
      "metadata": {},
      "outputs": [
        {
          "name": "stdout",
          "output_type": "stream",
          "text": [
            " 1821\n"
          ]
        }
      ],
      "source": [
        "# TODO\n",
        "# TODO\n",
        "num_clases_realEstate_name = ds['realEstate_name'].nunique()\n",
        "print(f\" {num_clases_realEstate_name}\")\n"
      ]
    },
    {
      "attachments": {},
      "cell_type": "markdown",
      "id": "binding-ebony",
      "metadata": {},
      "source": [
        "#### Ejercicio 13. ¿Cuál es la población (columna level5) que contiene la mayor cantidad de casas?(★★☆)\n",
        "\n",
        "Imprima la población y el número de casas."
      ]
    },
    {
      "cell_type": "code",
      "execution_count": 376,
      "id": "static-perry",
      "metadata": {},
      "outputs": [],
      "source": [
        "# TODO"
      ]
    },
    {
      "attachments": {},
      "cell_type": "markdown",
      "id": "entire-classification",
      "metadata": {},
      "source": [
        "#### Ejercicio 14. Ahora vamos a trabajar con el \"cinturón sur\" de Madrid. Haz un subconjunto del DataFrame original que contenga las siguientes poblaciones (columna level5): \"Fuenlabrada\", \"Leganés\", \"Getafe\", \"Alcorcón\" (★★☆)\n",
        "\n",
        "Pista: Filtra el DataFrame original usando la columna `level5` y la función `isin`."
      ]
    },
    {
      "cell_type": "code",
      "execution_count": 377,
      "id": "binary-input",
      "metadata": {},
      "outputs": [],
      "source": [
        "# TODO"
      ]
    },
    {
      "attachments": {},
      "cell_type": "markdown",
      "id": "severe-fisher",
      "metadata": {},
      "source": [
        "#### Ejercicio 15. Traza un gráfico de barras de la mediana de los precios y explica lo que observas (debes usar el subconjunto obtenido del Ejercicio 14) (★★★)\n",
        "\n",
        "Imprima un gráfico de barras de la mediana de precios y escriba en la celda Markdown un breve análisis sobre el gráfico."
      ]
    },
    {
      "cell_type": "code",
      "execution_count": 378,
      "id": "lyric-bunch",
      "metadata": {},
      "outputs": [],
      "source": [
        "# TODO: Code"
      ]
    },
    {
      "attachments": {},
      "cell_type": "markdown",
      "id": "sublime-newspaper",
      "metadata": {},
      "source": [
        "**TODO: Markdown**. Para escribir aquí, haz doble clic en esta celda, elimina este contenido y coloca lo que quieras escribir. Luego ejecuta la celda."
      ]
    },
    {
      "attachments": {},
      "cell_type": "markdown",
      "id": "speaking-diamond",
      "metadata": {},
      "source": [
        "#### Ejercicio 16. Calcula la media y la varianza de muestra para las siguientes variables: precio, habitaciones, superficie y baños (debes usar el subconjunto obtenido del Ejercicio 14) (★★★)\n",
        "\n",
        "Imprime ambos valores por cada variable."
      ]
    },
    {
      "cell_type": "code",
      "execution_count": 379,
      "id": "random-feeling",
      "metadata": {},
      "outputs": [],
      "source": [
        "# TODO"
      ]
    },
    {
      "attachments": {},
      "cell_type": "markdown",
      "id": "revolutionary-matrix",
      "metadata": {},
      "source": [
        "#### Ejercicio 17. ¿Cuál es la casa más cara de cada población? Debes usar el subset obtenido en la pregunta 14 (★★☆)\n",
        "\n",
        "Imprime tanto la dirección como el precio de la casa seleccionada de cada población. Puedes imprimir un DataFrame o una sola línea para cada población."
      ]
    },
    {
      "cell_type": "code",
      "execution_count": 380,
      "id": "fifteen-browse",
      "metadata": {},
      "outputs": [],
      "source": [
        "# TODO"
      ]
    },
    {
      "attachments": {},
      "cell_type": "markdown",
      "id": "activated-knight",
      "metadata": {},
      "source": [
        "#### Ejercicio 18. Normaliza la variable de precios para cada población y traza los 4 histogramas en el mismo gráfico (debes usar el subconjunto obtenido en la pregunta 14) (★★★)\n",
        "\n",
        "Para el método de normalización, puedes usar el que consideres adecuado, no hay una única respuesta correcta para esta pregunta. Imprime el gráfico y escribe en la celda de Markdown un breve análisis sobre el gráfico.\n",
        "\n",
        "Pista: Puedes ayudarte revisando la demostración multihist de Matplotlib."
      ]
    },
    {
      "cell_type": "code",
      "execution_count": 381,
      "id": "civic-meditation",
      "metadata": {},
      "outputs": [],
      "source": [
        "# TODO"
      ]
    },
    {
      "attachments": {},
      "cell_type": "markdown",
      "id": "precise-heavy",
      "metadata": {},
      "source": [
        "**TODO: Markdown**. Para escribir aquí, haz doble clic en esta celda, elimina este contenido y coloca lo que quieras escribir. Luego ejecuta la celda."
      ]
    },
    {
      "attachments": {},
      "cell_type": "markdown",
      "id": "patent-jonathan",
      "metadata": {},
      "source": [
        "#### Ejercicio 19. ¿Qué puedes decir sobre el precio por metro cuadrado (precio/m2) entre los municipios de 'Getafe' y 'Alcorcón'? Debes usar el subconjunto obtenido en la pregunta 14 (★★☆)\n",
        "\n",
        "Pista: Crea una nueva columna llamada `pps` (price per square en inglés) y luego analiza los valores"
      ]
    },
    {
      "cell_type": "code",
      "execution_count": 382,
      "id": "initial-liverpool",
      "metadata": {},
      "outputs": [],
      "source": [
        "# TODO"
      ]
    },
    {
      "attachments": {},
      "cell_type": "markdown",
      "id": "enhanced-moscow",
      "metadata": {},
      "source": [
        "#### Ejercicio 20. Realiza el mismo gráfico para 4 poblaciones diferentes (columna level5) y colócalos en el mismo gráfico. Debes usar el subconjunto obtenido en la pregunta 14 (★★☆) \n",
        "Pista: Haz un diagrama de dispersión de cada población usando subgráficos (subplots)."
      ]
    },
    {
      "cell_type": "code",
      "execution_count": 383,
      "id": "accepting-airfare",
      "metadata": {},
      "outputs": [],
      "source": [
        "# TODO"
      ]
    },
    {
      "attachments": {},
      "cell_type": "markdown",
      "id": "blocked-effects",
      "metadata": {},
      "source": [
        "#### Ejercicio 21. Realiza un trazado de las coordenadas (columnas latitud y longitud) del cinturón sur de Madrid por color de cada población (debes usar el subconjunto obtenido del Ejercicio 14) (★★★★)\n",
        "\n",
        "Ejecuta la siguiente celda y luego comienza a codear en la siguiente. Debes implementar un código simple que transforme las columnas de coordenadas en un diccionario de Python (agrega más información si es necesario) y agrégala al mapa."
      ]
    },
    {
      "cell_type": "code",
      "execution_count": 384,
      "id": "headed-privacy",
      "metadata": {},
      "outputs": [
        {
          "data": {
            "application/vnd.jupyter.widget-view+json": {
              "model_id": "e2b3455f7be84b55a7abd873510eedf7",
              "version_major": 2,
              "version_minor": 0
            },
            "text/plain": [
              "Map(center=[40.35, -3.8], controls=(ZoomControl(options=['position', 'zoom_in_text', 'zoom_in_title', 'zoom_ou…"
            ]
          },
          "execution_count": 384,
          "metadata": {},
          "output_type": "execute_result"
        }
      ],
      "source": [
        "from ipyleaflet import Map, basemaps\n",
        "\n",
        "# Mapa centrado en Madrid\n",
        "map = Map(center = (40.35, -3.8), zoom = 11.5, min_zoom = 1, max_zoom = 20, \n",
        "    basemap=basemaps.OpenStreetMap.Mapnik)\n",
        "map"
      ]
    },
    {
      "cell_type": "code",
      "execution_count": 385,
      "id": "present-mistress",
      "metadata": {},
      "outputs": [],
      "source": [
        "## Aquí: traza la coordenadas de los estados\n",
        "\n",
        "## PON TU CÓDIGO AQUÍ:\n"
      ]
    }
  ],
  "metadata": {
    "kernelspec": {
      "display_name": "Python 3",
      "language": "python",
      "name": "python3"
    },
    "language_info": {
      "codemirror_mode": {
        "name": "ipython",
        "version": 3
      },
      "file_extension": ".py",
      "mimetype": "text/x-python",
      "name": "python",
      "nbconvert_exporter": "python",
      "pygments_lexer": "ipython3",
      "version": "3.11.4"
    }
  },
  "nbformat": 4,
  "nbformat_minor": 5
}
